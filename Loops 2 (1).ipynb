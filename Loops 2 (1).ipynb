{
 "cells": [
  {
   "cell_type": "code",
   "execution_count": 4,
   "id": "dc07e7ef-1f48-4886-8cd9-97ccd4b711c0",
   "metadata": {},
   "outputs": [
    {
     "name": "stdout",
     "output_type": "stream",
     "text": [
      "2\n",
      "3\n",
      "4\n",
      "5\n",
      "6\n",
      "7\n",
      "8\n",
      "9\n",
      "10\n",
      "11\n"
     ]
    }
   ],
   "source": [
    "a=12\n",
    "b=2\n",
    "while a>b:\n",
    "    print(b)\n",
    "    b=b+1\n",
    "    if b==10:\n",
    "        continue\n"
   ]
  },
  {
   "cell_type": "code",
   "execution_count": 5,
   "id": "bd4e4c3f-4035-4d6c-8ced-79944596531e",
   "metadata": {},
   "outputs": [
    {
     "name": "stdout",
     "output_type": "stream",
     "text": [
      "11\n",
      "10\n",
      "9\n",
      "8\n",
      "7\n",
      "6\n",
      "5\n",
      "4\n",
      "2\n",
      "1\n",
      "0\n"
     ]
    }
   ],
   "source": [
    "count=12\n",
    "while count>0:\n",
    "    count=count-1\n",
    "    if count ==3:\n",
    "        continue\n",
    "    print(count)"
   ]
  },
  {
   "cell_type": "code",
   "execution_count": 12,
   "id": "aede8cee-9ed6-45e8-95b4-107f0d5b9503",
   "metadata": {},
   "outputs": [
    {
     "name": "stdout",
     "output_type": "stream",
     "text": [
      "3\n",
      "4\n",
      "5\n",
      "6\n",
      "7\n",
      "8\n",
      "9\n",
      "11\n",
      "12\n",
      "13\n",
      "14\n"
     ]
    }
   ],
   "source": [
    "a=1\n",
    "b=14\n",
    "while a<b:\n",
    "    a=a+1\n",
    "    if a==2:\n",
    "        continue\n",
    "    elif a==10:\n",
    "        continue\n",
    "    print(a)"
   ]
  },
  {
   "cell_type": "code",
   "execution_count": 13,
   "id": "24cdd412-7278-4cb2-8830-8bfd044487aa",
   "metadata": {},
   "outputs": [
    {
     "name": "stdout",
     "output_type": "stream",
     "text": [
      "3\n",
      "4\n",
      "5\n",
      "6\n",
      "7\n",
      "8\n",
      "9\n",
      "10\n",
      "11\n",
      "12\n"
     ]
    }
   ],
   "source": [
    "a=12\n",
    "b=2\n",
    "while a>b:\n",
    "    b=b+1\n",
    "    print(b)"
   ]
  },
  {
   "cell_type": "code",
   "execution_count": 15,
   "id": "06b1483c-4262-426a-9cb0-abf2c2b00acf",
   "metadata": {},
   "outputs": [
    {
     "name": "stdout",
     "output_type": "stream",
     "text": [
      "3\n",
      "4\n",
      "5\n",
      "6\n",
      "7\n",
      "8\n"
     ]
    }
   ],
   "source": [
    "a=12\n",
    "b=2\n",
    "while a>b:\n",
    "    b=b+1\n",
    "    if b==9:\n",
    "        break\n",
    "    print(b)\n"
   ]
  },
  {
   "cell_type": "code",
   "execution_count": 16,
   "id": "d768cd0f-9415-438d-ba51-dc635e251557",
   "metadata": {},
   "outputs": [
    {
     "name": "stdout",
     "output_type": "stream",
     "text": [
      "4\n",
      "6\n",
      "8\n",
      "10\n",
      "11\n",
      "12\n"
     ]
    }
   ],
   "source": [
    "a=12\n",
    "b=2\n",
    "while a>b:\n",
    "    b=b+1\n",
    "    if b==3:\n",
    "        continue\n",
    "    elif b==5:\n",
    "        continue\n",
    "    elif b==7:\n",
    "        continue\n",
    "    elif b==9:\n",
    "        continue\n",
    "    print(b)"
   ]
  },
  {
   "cell_type": "code",
   "execution_count": 17,
   "id": "a8669c5c-cac9-4ac7-89a3-ff253e26d44c",
   "metadata": {},
   "outputs": [
    {
     "name": "stdout",
     "output_type": "stream",
     "text": [
      "d\n",
      "e\n",
      "e\n",
      "p\n",
      "a\n",
      "k\n"
     ]
    }
   ],
   "source": [
    "for e in \"deepak\":\n",
    "    print(e)"
   ]
  },
  {
   "cell_type": "code",
   "execution_count": 19,
   "id": "06104d6a-127b-45b6-9a11-45f187b680d3",
   "metadata": {},
   "outputs": [
    {
     "name": "stdout",
     "output_type": "stream",
     "text": [
      "B\n",
      "R\n",
      "A\n",
      "H\n",
      "M\n",
      "A\n",
      "N\n"
     ]
    }
   ],
   "source": [
    "for H in \"BRAHMAN\":\n",
    "    print(H)"
   ]
  },
  {
   "cell_type": "code",
   "execution_count": 20,
   "id": "0e55a583-724f-4ee6-8456-35180d57acbb",
   "metadata": {},
   "outputs": [
    {
     "name": "stdout",
     "output_type": "stream",
     "text": [
      "1\n",
      "3\n",
      "4.5\n",
      "Deepak\n",
      "True\n",
      "False\n",
      "0\n"
     ]
    }
   ],
   "source": [
    "l=[1,3,4.5,\"Deepak\",True,False,0]\n",
    "for e in l:\n",
    "    print(e)"
   ]
  },
  {
   "cell_type": "code",
   "execution_count": 21,
   "id": "1fa5dcc7-bbcb-47c7-aa23-6c5ccac05c4e",
   "metadata": {},
   "outputs": [
    {
     "name": "stdout",
     "output_type": "stream",
     "text": [
      "1\n",
      "3\n"
     ]
    }
   ],
   "source": [
    "for e in l:\n",
    "    if e==4.5:\n",
    "        break\n",
    "    print(e)"
   ]
  },
  {
   "cell_type": "code",
   "execution_count": 22,
   "id": "0e4261f0-8b2a-4698-857b-b84a3b45ed47",
   "metadata": {},
   "outputs": [
    {
     "name": "stdout",
     "output_type": "stream",
     "text": [
      "3\n",
      "4.5\n",
      "Deepak\n",
      "False\n",
      "0\n"
     ]
    }
   ],
   "source": [
    "for e in l:\n",
    "    if e==True:\n",
    "        continue\n",
    "    print(e)"
   ]
  },
  {
   "cell_type": "code",
   "execution_count": null,
   "id": "e1f5d5a5-3e6a-4e6f-a2f4-9e087da5d678",
   "metadata": {},
   "outputs": [],
   "source": []
  }
 ],
 "metadata": {
  "kernelspec": {
   "display_name": "Python 3 (ipykernel)",
   "language": "python",
   "name": "python3"
  },
  "language_info": {
   "codemirror_mode": {
    "name": "ipython",
    "version": 3
   },
   "file_extension": ".py",
   "mimetype": "text/x-python",
   "name": "python",
   "nbconvert_exporter": "python",
   "pygments_lexer": "ipython3",
   "version": "3.12.7"
  }
 },
 "nbformat": 4,
 "nbformat_minor": 5
}
