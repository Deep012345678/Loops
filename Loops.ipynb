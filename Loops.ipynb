{
 "cells": [
  {
   "cell_type": "code",
   "execution_count": 1,
   "id": "1d183c35-fe19-42be-a681-b0663908eac0",
   "metadata": {},
   "outputs": [
    {
     "name": "stdout",
     "output_type": "stream",
     "text": [
      "12\n",
      "13\n",
      "14\n",
      "15\n",
      "16\n",
      "17\n",
      "18\n"
     ]
    }
   ],
   "source": [
    "a = 12\n",
    "b = 19\n",
    "while a < b:\n",
    "    print(a)\n",
    "    a =a+1"
   ]
  },
  {
   "cell_type": "code",
   "execution_count": 7,
   "id": "33bf5a2d-bd7d-4d1f-b528-aa37b3e62e28",
   "metadata": {},
   "outputs": [
    {
     "name": "stdout",
     "output_type": "stream",
     "text": [
      "10\n",
      "9\n",
      "8\n",
      "7\n",
      "6\n",
      "5\n",
      "4\n",
      "3\n"
     ]
    }
   ],
   "source": [
    "count = 10\n",
    "while count > 2:\n",
    "    print(count)\n",
    "    count = count - 1"
   ]
  },
  {
   "cell_type": "code",
   "execution_count": 11,
   "id": "e433013e-2c6d-4f4a-b3d5-b6c808f5c276",
   "metadata": {},
   "outputs": [
    {
     "name": "stdout",
     "output_type": "stream",
     "text": [
      "16\n",
      "15\n",
      "14\n",
      "13\n",
      "12\n",
      "11\n"
     ]
    }
   ],
   "source": [
    "a= 16\n",
    "while a>2:\n",
    "    print(a)\n",
    "    a= a-1\n",
    "    if a==10:\n",
    "        break\n",
    "else:\n",
    "    print(\"a has been executed at least at 2\")"
   ]
  },
  {
   "cell_type": "code",
   "execution_count": 18,
   "id": "7b9099a0-2821-4bc3-802a-e323514b5a3b",
   "metadata": {},
   "outputs": [
    {
     "name": "stdout",
     "output_type": "stream",
     "text": [
      "12\n",
      "11\n",
      "10\n",
      "9\n",
      "8\n",
      "7\n"
     ]
    }
   ],
   "source": [
    "count = 12\n",
    "while count > 0:\n",
    "    print (count)\n",
    "    count=count-1\n",
    "    if count==6:\n",
    "        break\n",
    "else:\n",
    "    print(\"count has been executed at least till 0\")"
   ]
  },
  {
   "cell_type": "code",
   "execution_count": null,
   "id": "e25f474f-b917-455a-916d-281aff8e7238",
   "metadata": {},
   "outputs": [],
   "source": [
    "a=5\n",
    "b=15\n",
    "while b>a:\n",
    "    a=a+1\n",
    "    if a==10:\n",
    "        break\n",
    "    print(a)"
   ]
  },
  {
   "cell_type": "code",
   "execution_count": null,
   "id": "0165b7dd-98d1-4da7-9279-cc4f5b652e47",
   "metadata": {},
   "outputs": [],
   "source": [
    "count=12\n",
    "while count"
   ]
  }
 ],
 "metadata": {
  "kernelspec": {
   "display_name": "Python 3 (ipykernel)",
   "language": "python",
   "name": "python3"
  },
  "language_info": {
   "codemirror_mode": {
    "name": "ipython",
    "version": 3
   },
   "file_extension": ".py",
   "mimetype": "text/x-python",
   "name": "python",
   "nbconvert_exporter": "python",
   "pygments_lexer": "ipython3",
   "version": "3.12.7"
  }
 },
 "nbformat": 4,
 "nbformat_minor": 5
}
